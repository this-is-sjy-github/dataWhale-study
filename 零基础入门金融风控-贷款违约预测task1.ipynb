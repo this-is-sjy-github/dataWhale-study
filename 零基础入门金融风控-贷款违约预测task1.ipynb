{
 "cells": [
  {
   "cell_type": "markdown",
   "metadata": {},
   "source": [
    "# Task1 赛题理解\n",
    "Tip:本次新人赛是Datawhale与天池联合发起的0基础入门系列赛事第四场 —— 零基础入门金融风控之贷款违约预测挑战赛。 赛题以金融风控中的个人信贷为背景，要求选手根据贷款申请人的数据信息预测其是否有违约的可能，以此判断是否通过此项贷款，这是一个典型的分类问题。通过这道赛题来引导大家了解金融风控中的一些业务背景，解决实际问题，帮助竞赛新人进行自我练习、自我提高。\n",
    "\n",
    "项目地址：https://github.com/datawhalechina/team-learning-data-mining/tree/master/FinancialRiskControl\n",
    "\n",
    "比赛地址：https://tianchi.aliyun.com/competition/entrance/531830/introduction"
   ]
  },
  {
   "cell_type": "markdown",
   "metadata": {},
   "source": [
    "# 1.1 学习目标\n",
    "理解赛题数据和目标，清楚评分体系。\n",
    "\n",
    "完成相应报名，下载数据和结果提交打卡（可提交示例结果），熟悉比赛流程"
   ]
  },
  {
   "cell_type": "markdown",
   "metadata": {},
   "source": [
    "# 1.2 了解赛题\n",
    "赛题概况\n",
    "数据概况\n",
    "预测指标\n",
    "分析赛题"
   ]
  },
  {
   "cell_type": "markdown",
   "metadata": {},
   "source": [
    "# 1.2.1 赛题概况\n",
    "比赛要求参赛选手根据给定的数据集，建立模型，预测金融风险。\n",
    "赛题以预测金融风险为任务，数据集报名后可见并可下载，该数据来自某信贷平台的贷款记录，总数据量超过120w，包含47列变量信息，其中15列为匿名变量。为了保证比赛的公平性，将会从中抽取80万条作为训练集，20万条作为测试集A，20万条作为测试集B，同时会对employmentTitle、purpose、postCode和title等信息进行脱敏。\n",
    "\n",
    "通过这道赛题来引导大家走进金融风控数据竞赛的世界，主要针对于于竞赛新人进行自我练习、自我提高。"
   ]
  },
  {
   "cell_type": "markdown",
   "metadata": {},
   "source": [
    "# 1.2.2 数据概况\n",
    "一般而言，对于数据在比赛界面都有对应的数据概况介绍（匿名特征除外），说明列的性质特征。了解列的性质会有助于我们对于数据的理解和后续分析。"
   ]
  },
  {
   "cell_type": "raw",
   "metadata": {},
   "source": [
    " Tip:匿名特征，就是未告知数据列所属的性质的特征列。\n",
    "\n",
    "train.csv\n",
    "\n",
    "id 为贷款清单分配的唯一信用证标识\n",
    "loanAmnt 贷款金额\n",
    "term 贷款期限（year）\n",
    "interestRate 贷款利率\n",
    "installment 分期付款金额\n",
    "grade 贷款等级\n",
    "subGrade 贷款等级之子级\n",
    "employmentTitle 就业职称\n",
    "employmentLength 就业年限（年）\n",
    "homeOwnership 借款人在登记时提供的房屋所有权状况\n",
    "annualIncome 年收入\n",
    "verificationStatus 验证状态\n",
    "issueDate 贷款发放的月份\n",
    "purpose 借款人在贷款申请时的贷款用途类别\n",
    "postCode 借款人在贷款申请中提供的邮政编码的前3位数字\n",
    "regionCode 地区编码\n",
    "dti 债务收入比\n",
    "delinquency_2years 借款人过去2年信用档案中逾期30天以上的违约事件数\n",
    "ficoRangeLow 借款人在贷款发放时的fico所属的下限范围\n",
    "ficoRangeHigh 借款人在贷款发放时的fico所属的上限范围\n",
    "openAcc 借款人信用档案中未结信用额度的数量\n",
    "pubRec 贬损公共记录的数量\n",
    "pubRecBankruptcies 公开记录清除的数量\n",
    "revolBal 信贷周转余额合计\n",
    "revolUtil 循环额度利用率，或借款人使用的相对于所有可用循环信贷的信贷金额\n",
    "totalAcc 借款人信用档案中当前的信用额度总数\n",
    "initialListStatus 贷款的初始列表状态\n",
    "applicationType 表明贷款是个人申请还是与两个共同借款人的联合申请\n",
    "earliesCreditLine 借款人最早报告的信用额度开立的月份\n",
    "title 借款人提供的贷款名称\n",
    "policyCode 公开可用的策略代码=1新产品不公开可用的策略代码=2\n",
    "n系列匿名特征 匿名特征n0-n14，为一些贷款人行为计数特征的处理"
   ]
  },
  {
   "cell_type": "markdown",
   "metadata": {},
   "source": [
    "# 1.2.3 预测指标\n",
    "竞赛采用AUC作为评价指标。AUC（Area Under Curve）被定义为 ROC曲线 下与坐标轴围成的面积。"
   ]
  },
  {
   "cell_type": "markdown",
   "metadata": {},
   "source": [
    "# 1.3 代码示例\n",
    "本部分为对于数据读取和指标评价的示例。"
   ]
  },
  {
   "cell_type": "markdown",
   "metadata": {},
   "source": [
    "# 1.3.1 数据读取pandas"
   ]
  },
  {
   "cell_type": "code",
   "execution_count": 1,
   "metadata": {},
   "outputs": [],
   "source": [
    "import pandas as pd"
   ]
  },
  {
   "cell_type": "code",
   "execution_count": 2,
   "metadata": {},
   "outputs": [],
   "source": [
    "train = pd.read_csv('data/train.csv')\n",
    "testA = pd.read_csv('data/testA.csv')"
   ]
  },
  {
   "cell_type": "code",
   "execution_count": 3,
   "metadata": {},
   "outputs": [
    {
     "name": "stdout",
     "output_type": "stream",
     "text": [
      "Train data shape: (800000, 47)\n",
      "TestA data shape: (200000, 48)\n"
     ]
    }
   ],
   "source": [
    "print('Train data shape:',train.shape)\n",
    "print('TestA data shape:',testA.shape)"
   ]
  },
  {
   "cell_type": "code",
   "execution_count": 4,
   "metadata": {},
   "outputs": [
    {
     "data": {
      "text/html": [
       "<div>\n",
       "<style scoped>\n",
       "    .dataframe tbody tr th:only-of-type {\n",
       "        vertical-align: middle;\n",
       "    }\n",
       "\n",
       "    .dataframe tbody tr th {\n",
       "        vertical-align: top;\n",
       "    }\n",
       "\n",
       "    .dataframe thead th {\n",
       "        text-align: right;\n",
       "    }\n",
       "</style>\n",
       "<table border=\"1\" class=\"dataframe\">\n",
       "  <thead>\n",
       "    <tr style=\"text-align: right;\">\n",
       "      <th></th>\n",
       "      <th>id</th>\n",
       "      <th>loanAmnt</th>\n",
       "      <th>term</th>\n",
       "      <th>interestRate</th>\n",
       "      <th>installment</th>\n",
       "      <th>grade</th>\n",
       "      <th>subGrade</th>\n",
       "      <th>employmentTitle</th>\n",
       "      <th>employmentLength</th>\n",
       "      <th>homeOwnership</th>\n",
       "      <th>...</th>\n",
       "      <th>n5</th>\n",
       "      <th>n6</th>\n",
       "      <th>n7</th>\n",
       "      <th>n8</th>\n",
       "      <th>n9</th>\n",
       "      <th>n10</th>\n",
       "      <th>n11</th>\n",
       "      <th>n12</th>\n",
       "      <th>n13</th>\n",
       "      <th>n14</th>\n",
       "    </tr>\n",
       "  </thead>\n",
       "  <tbody>\n",
       "    <tr>\n",
       "      <th>0</th>\n",
       "      <td>0</td>\n",
       "      <td>35000.0</td>\n",
       "      <td>5</td>\n",
       "      <td>19.52</td>\n",
       "      <td>917.97</td>\n",
       "      <td>E</td>\n",
       "      <td>E2</td>\n",
       "      <td>320.0</td>\n",
       "      <td>2 years</td>\n",
       "      <td>2</td>\n",
       "      <td>...</td>\n",
       "      <td>9.0</td>\n",
       "      <td>8.0</td>\n",
       "      <td>4.0</td>\n",
       "      <td>12.0</td>\n",
       "      <td>2.0</td>\n",
       "      <td>7.0</td>\n",
       "      <td>0.0</td>\n",
       "      <td>0.0</td>\n",
       "      <td>0.0</td>\n",
       "      <td>2.0</td>\n",
       "    </tr>\n",
       "    <tr>\n",
       "      <th>1</th>\n",
       "      <td>1</td>\n",
       "      <td>18000.0</td>\n",
       "      <td>5</td>\n",
       "      <td>18.49</td>\n",
       "      <td>461.90</td>\n",
       "      <td>D</td>\n",
       "      <td>D2</td>\n",
       "      <td>219843.0</td>\n",
       "      <td>5 years</td>\n",
       "      <td>0</td>\n",
       "      <td>...</td>\n",
       "      <td>NaN</td>\n",
       "      <td>NaN</td>\n",
       "      <td>NaN</td>\n",
       "      <td>NaN</td>\n",
       "      <td>NaN</td>\n",
       "      <td>13.0</td>\n",
       "      <td>NaN</td>\n",
       "      <td>NaN</td>\n",
       "      <td>NaN</td>\n",
       "      <td>NaN</td>\n",
       "    </tr>\n",
       "    <tr>\n",
       "      <th>2</th>\n",
       "      <td>2</td>\n",
       "      <td>12000.0</td>\n",
       "      <td>5</td>\n",
       "      <td>16.99</td>\n",
       "      <td>298.17</td>\n",
       "      <td>D</td>\n",
       "      <td>D3</td>\n",
       "      <td>31698.0</td>\n",
       "      <td>8 years</td>\n",
       "      <td>0</td>\n",
       "      <td>...</td>\n",
       "      <td>0.0</td>\n",
       "      <td>21.0</td>\n",
       "      <td>4.0</td>\n",
       "      <td>5.0</td>\n",
       "      <td>3.0</td>\n",
       "      <td>11.0</td>\n",
       "      <td>0.0</td>\n",
       "      <td>0.0</td>\n",
       "      <td>0.0</td>\n",
       "      <td>4.0</td>\n",
       "    </tr>\n",
       "    <tr>\n",
       "      <th>3</th>\n",
       "      <td>3</td>\n",
       "      <td>11000.0</td>\n",
       "      <td>3</td>\n",
       "      <td>7.26</td>\n",
       "      <td>340.96</td>\n",
       "      <td>A</td>\n",
       "      <td>A4</td>\n",
       "      <td>46854.0</td>\n",
       "      <td>10+ years</td>\n",
       "      <td>1</td>\n",
       "      <td>...</td>\n",
       "      <td>16.0</td>\n",
       "      <td>4.0</td>\n",
       "      <td>7.0</td>\n",
       "      <td>21.0</td>\n",
       "      <td>6.0</td>\n",
       "      <td>9.0</td>\n",
       "      <td>0.0</td>\n",
       "      <td>0.0</td>\n",
       "      <td>0.0</td>\n",
       "      <td>1.0</td>\n",
       "    </tr>\n",
       "    <tr>\n",
       "      <th>4</th>\n",
       "      <td>4</td>\n",
       "      <td>3000.0</td>\n",
       "      <td>3</td>\n",
       "      <td>12.99</td>\n",
       "      <td>101.07</td>\n",
       "      <td>C</td>\n",
       "      <td>C2</td>\n",
       "      <td>54.0</td>\n",
       "      <td>NaN</td>\n",
       "      <td>1</td>\n",
       "      <td>...</td>\n",
       "      <td>4.0</td>\n",
       "      <td>9.0</td>\n",
       "      <td>10.0</td>\n",
       "      <td>15.0</td>\n",
       "      <td>7.0</td>\n",
       "      <td>12.0</td>\n",
       "      <td>0.0</td>\n",
       "      <td>0.0</td>\n",
       "      <td>0.0</td>\n",
       "      <td>4.0</td>\n",
       "    </tr>\n",
       "  </tbody>\n",
       "</table>\n",
       "<p>5 rows × 47 columns</p>\n",
       "</div>"
      ],
      "text/plain": [
       "   id  loanAmnt  term  interestRate  installment grade subGrade  \\\n",
       "0   0   35000.0     5         19.52       917.97     E       E2   \n",
       "1   1   18000.0     5         18.49       461.90     D       D2   \n",
       "2   2   12000.0     5         16.99       298.17     D       D3   \n",
       "3   3   11000.0     3          7.26       340.96     A       A4   \n",
       "4   4    3000.0     3         12.99       101.07     C       C2   \n",
       "\n",
       "   employmentTitle employmentLength  homeOwnership  ...    n5    n6    n7  \\\n",
       "0            320.0          2 years              2  ...   9.0   8.0   4.0   \n",
       "1         219843.0          5 years              0  ...   NaN   NaN   NaN   \n",
       "2          31698.0          8 years              0  ...   0.0  21.0   4.0   \n",
       "3          46854.0        10+ years              1  ...  16.0   4.0   7.0   \n",
       "4             54.0              NaN              1  ...   4.0   9.0  10.0   \n",
       "\n",
       "     n8   n9   n10  n11  n12  n13  n14  \n",
       "0  12.0  2.0   7.0  0.0  0.0  0.0  2.0  \n",
       "1   NaN  NaN  13.0  NaN  NaN  NaN  NaN  \n",
       "2   5.0  3.0  11.0  0.0  0.0  0.0  4.0  \n",
       "3  21.0  6.0   9.0  0.0  0.0  0.0  1.0  \n",
       "4  15.0  7.0  12.0  0.0  0.0  0.0  4.0  \n",
       "\n",
       "[5 rows x 47 columns]"
      ]
     },
     "execution_count": 4,
     "metadata": {},
     "output_type": "execute_result"
    }
   ],
   "source": [
    "train.head()"
   ]
  },
  {
   "cell_type": "markdown",
   "metadata": {},
   "source": [
    "# 1.3.2 分类指标评价计算示例"
   ]
  },
  {
   "cell_type": "code",
   "execution_count": 5,
   "metadata": {},
   "outputs": [
    {
     "name": "stdout",
     "output_type": "stream",
     "text": [
      "混淆矩阵:\n",
      " [[1 1]\n",
      " [1 1]]\n"
     ]
    }
   ],
   "source": [
    "## 混淆矩阵\n",
    "import numpy as np\n",
    "from sklearn.metrics import confusion_matrix\n",
    "y_pred = [0, 1, 0, 1]\n",
    "y_true = [0, 1, 1, 0]\n",
    "print('混淆矩阵:\\n',confusion_matrix(y_true, y_pred))"
   ]
  },
  {
   "cell_type": "code",
   "execution_count": 6,
   "metadata": {},
   "outputs": [
    {
     "name": "stdout",
     "output_type": "stream",
     "text": [
      "ACC: 0.5\n"
     ]
    }
   ],
   "source": [
    "## accuracy\n",
    "from sklearn.metrics import accuracy_score\n",
    "y_pred = [0, 1, 0, 1]\n",
    "y_true = [0, 1, 1, 0]\n",
    "print('ACC:',accuracy_score(y_true, y_pred))"
   ]
  },
  {
   "cell_type": "code",
   "execution_count": 7,
   "metadata": {},
   "outputs": [
    {
     "name": "stdout",
     "output_type": "stream",
     "text": [
      "Precision 0.5\n",
      "Recall 0.5\n",
      "F1-score: 0.5\n"
     ]
    }
   ],
   "source": [
    "## Precision,Recall,F1-score\n",
    "from sklearn import metrics\n",
    "y_pred = [0, 1, 0, 1]\n",
    "y_true = [0, 1, 1, 0]\n",
    "print('Precision',metrics.precision_score(y_true, y_pred))\n",
    "print('Recall',metrics.recall_score(y_true, y_pred))\n",
    "print('F1-score:',metrics.f1_score(y_true, y_pred))"
   ]
  },
  {
   "cell_type": "code",
   "execution_count": 9,
   "metadata": {},
   "outputs": [
    {
     "data": {
      "image/png": "[encoded data removed]",
      "text/plain": [
       "<Figure size 432x288 with 1 Axes>"
      ]
     },
     "metadata": {
      "needs_background": "light"
     },
     "output_type": "display_data"
    }
   ],
   "source": [
    "## P-R曲线\n",
    "import matplotlib.pyplot as plt\n",
    "from sklearn.metrics import precision_recall_curve\n",
    "y_pred = [0, 1, 1, 0, 1, 1, 0, 1, 1, 1]\n",
    "y_true = [0, 1, 1, 0, 1, 0, 1, 1, 0, 1]\n",
    "precision, recall, thresholds = precision_recall_curve(y_true, y_pred)\n",
    "plt.plot(precision, recall)\n",
    "plt.show()"
   ]
  },
  {
   "cell_type": "code",
   "execution_count": 10,
   "metadata": {},
   "outputs": [
    {
     "data": {
      "text/plain": [
       "Text(0.5, 0, 'FPR')"
      ]
     },
     "execution_count": 10,
     "metadata": {},
     "output_type": "execute_result"
    },
    {
     "data": {
      "image/png": "[encoded data removed]",
      "text/plain": [
       "<Figure size 432x288 with 1 Axes>"
      ]
     },
     "metadata": {
      "needs_background": "light"
     },
     "output_type": "display_data"
    }
   ],
   "source": [
    "## ROC曲线\n",
    "from sklearn.metrics import roc_curve\n",
    "y_pred = [0, 1, 1, 0, 1, 1, 0, 1, 1, 1]\n",
    "y_true = [0, 1, 1, 0, 1, 0, 1, 1, 0, 1]\n",
    "FPR,TPR,thresholds=roc_curve(y_true, y_pred)\n",
    "plt.title('ROC')\n",
    "plt.plot(FPR, TPR,'b')\n",
    "plt.plot([0,1],[0,1],'r--')\n",
    "plt.ylabel('TPR')\n",
    "plt.xlabel('FPR')"
   ]
  },
  {
   "cell_type": "code",
   "execution_count": 11,
   "metadata": {},
   "outputs": [
    {
     "name": "stdout",
     "output_type": "stream",
     "text": [
      "AUC socre: 0.75\n"
     ]
    }
   ],
   "source": [
    "## AUC\n",
    "import numpy as np\n",
    "from sklearn.metrics import roc_auc_score\n",
    "y_true = np.array([0, 0, 1, 1])\n",
    "y_scores = np.array([0.1, 0.4, 0.35, 0.8])\n",
    "print('AUC socre:',roc_auc_score(y_true, y_scores))"
   ]
  },
  {
   "cell_type": "code",
   "execution_count": 12,
   "metadata": {},
   "outputs": [
    {
     "name": "stdout",
     "output_type": "stream",
     "text": [
      "KS值： 0.5238095238095237\n"
     ]
    }
   ],
   "source": [
    "## KS值 在实际操作时往往使用ROC曲线配合求出KS值\n",
    "from sklearn.metrics import roc_curve\n",
    "y_pred = [0, 1, 1, 0, 1, 1, 0, 1, 1, 1]\n",
    "y_true = [0, 1, 1, 0, 1, 0, 1, 1, 1, 1]\n",
    "FPR,TPR,thresholds=roc_curve(y_true, y_pred)\n",
    "KS=abs(FPR-TPR).max()\n",
    "print('KS值：',KS)"
   ]
  },
  {
   "cell_type": "markdown",
   "metadata": {},
   "source": [
    "# 1.5 拓展知识——评分卡\n",
    "评分卡是一张拥有分数刻度会让相应阈值的表。信用评分卡是用于用户信用的一张刻度表。以下代码是一个非标准评分卡的代码流程，用于刻画用户的信用评分。评分卡是金融风控中常用的一种对于用户信用进行刻画的手段哦！"
   ]
  },
  {
   "cell_type": "code",
   "execution_count": 13,
   "metadata": {},
   "outputs": [],
   "source": [
    "#评分卡 不是标准评分卡\n",
    "def Score(prob,P0=600,PDO=20,badrate=None,goodrate=None):\n",
    "    P0 = P0\n",
    "    PDO = PDO\n",
    "    theta0 = badrate/goodrate\n",
    "    B = PDO/np.log(2)\n",
    "    A = P0 + B*np.log(2*theta0)\n",
    "    score = A-B*np.log(prob/(1-prob))\n",
    "    return score"
   ]
  },
  {
   "cell_type": "code",
   "execution_count": null,
   "metadata": {},
   "outputs": [],
   "source": []
  },
  {
   "cell_type": "raw",
   "metadata": {},
   "source": [
    "分类算法常见的评估指标如下：\n",
    "1、混淆矩阵（Confuse Matrix）\n",
    "\n",
    "（1）若一个实例是正类，并且被预测为正类，即为真正类TP(True Positive )\n",
    "（2）若一个实例是正类，但是被预测为负类，即为假负类FN(False Negative )\n",
    "（3）若一个实例是负类，但是被预测为正类，即为假正类FP(False Positive )\n",
    "（4）若一个实例是负类，并且被预测为负类，即为真负类TN(True Negative )\n",
    "2、准确率（Accuracy） 准确率是常用的一个评价指标，但是不适合样本不均衡的情况。\n",
    "A\n",
    "c\n",
    "c\n",
    "u\n",
    "r\n",
    "a\n",
    "c\n",
    "y\n",
    "=\n",
    "T\n",
    "P\n",
    "+\n",
    "T\n",
    "N\n",
    "T\n",
    "P\n",
    "+\n",
    "T\n",
    "N\n",
    "+\n",
    "F\n",
    "P\n",
    "+\n",
    "F\n",
    "N\n",
    " \n",
    "3、精确率（Precision） 又称查准率，正确预测为正样本（TP）占预测为正样本(TP+FP)的百分比。\n",
    "P\n",
    "r\n",
    "e\n",
    "c\n",
    "i\n",
    "s\n",
    "i\n",
    "o\n",
    "n\n",
    "=\n",
    "T\n",
    "P\n",
    "T\n",
    "P\n",
    "+\n",
    "F\n",
    "P\n",
    " \n",
    "4、召回率（Recall） 又称为查全率，正确预测为正样本（TP）占正样本(TP+FN)的百分比。\n",
    "R\n",
    "e\n",
    "c\n",
    "a\n",
    "l\n",
    "l\n",
    "=\n",
    "T\n",
    "P\n",
    "T\n",
    "P\n",
    "+\n",
    "F\n",
    "N\n",
    " \n",
    "5、F1 Score 精确率和召回率是相互影响的，精确率升高则召回率下降，召回率升高则精确率下降，如果需要兼顾二者，就需要精确率、召回率的结合F1 Score。\n",
    "F\n",
    "1\n",
    "−\n",
    "S\n",
    "c\n",
    "o\n",
    "r\n",
    "e\n",
    "=\n",
    "2\n",
    "1\n",
    "P\n",
    "r\n",
    "e\n",
    "c\n",
    "i\n",
    "s\n",
    "i\n",
    "o\n",
    "n\n",
    "+\n",
    "1\n",
    "R\n",
    "e\n",
    "c\n",
    "a\n",
    "l\n",
    "l\n",
    " \n",
    "6、P-R曲线（Precision-Recall Curve） P-R曲线是描述精确率和召回率变化的曲线\n",
    "\n",
    "p-r\n",
    "7、ROC（Receiver Operating Characteristic）\n",
    "\n",
    "ROC空间将假正例率（FPR）定义为 X 轴，真正例率（TPR）定义为 Y 轴。\n",
    "TPR：在所有实际为正例的样本中，被正确地判断为正例之比率。\n",
    "T\n",
    "P\n",
    "R\n",
    "=\n",
    "T\n",
    "P\n",
    "T\n",
    "P\n",
    "+\n",
    "F\n",
    "N\n",
    " \n",
    "FPR：在所有实际为负例的样本中，被错误地判断为正例之比率。\n",
    "F\n",
    "P\n",
    "R\n",
    "=\n",
    "F\n",
    "P\n",
    "F\n",
    "P\n",
    "+\n",
    "T\n",
    "N\n",
    " \n",
    "roc.png 8、AUC(Area Under Curve) AUC（Area Under Curve）被定义为 ROC曲线 下与坐标轴围成的面积，显然这个面积的数值不会大于1。又由于ROC曲线一般都处于y=x这条直线的上方，所以AUC的取值范围在0.5和1之间。AUC越接近1.0，检测方法真实性越高;等于0.5时，则真实性最低，无应用价值。"
   ]
  }
 ],
 "metadata": {
  "kernelspec": {
   "display_name": "Python 3",
   "language": "python",
   "name": "python3"
  },
  "language_info": {
   "codemirror_mode": {
    "name": "ipython",
    "version": 3
   },
   "file_extension": ".py",
   "mimetype": "text/x-python",
   "name": "python",
   "nbconvert_exporter": "python",
   "pygments_lexer": "ipython3",
   "version": "3.7.3"
  }
 },
 "nbformat": 4,
 "nbformat_minor": 2
}
